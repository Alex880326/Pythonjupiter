{
 "cells": [
  {
   "cell_type": "markdown",
   "metadata": {},
   "source": [
    "### На складе лежат разные фрукты в разном количестве.\n",
    "#### Нужно написать функцию, которая на вход принимает любое количество названий фруктов и их количество, а возвращает общее количество фруктов на складе"
   ]
  },
  {
   "cell_type": "code",
   "execution_count": 40,
   "metadata": {},
   "outputs": [],
   "source": [
    "fruits = ['apples', 'potatoes', 'bananas', 'orange', 'lime']\n",
    "quantity = [78, 86, 32, 23, 55]"
   ]
  },
  {
   "cell_type": "code",
   "execution_count": 49,
   "metadata": {},
   "outputs": [
    {
     "name": "stdout",
     "output_type": "stream",
     "text": [
      "{'apples': 78, 'potatoes': 86, 'bananas': 32, 'orange': 23, 'lime': 55, 'coconut': 75}\n",
      "Общее количество фруктов: 349\n"
     ]
    }
   ],
   "source": [
    "def new_dict(k: list[str], v: list[int]) -> dict:\n",
    "    dict_result = {}\n",
    "    total_quantity = 0 \n",
    "    for i in range(len(k)):\n",
    "        dict_result[k[i]] = v[i]\n",
    "        total_quantity += v[i] \n",
    "    return dict_result, total_quantity\n",
    "\n",
    "fruits = ['apples', 'potatoes', 'bananas', 'orange', 'lime', 'coconut']\n",
    "quantity = [78, 86, 32, 23, 55, 75]\n",
    "\n",
    "result_dict, total_quantity = new_dict(fruits, quantity)\n",
    "print(result_dict)\n",
    "print(\"Общее количество фруктов:\", total_quantity)"
   ]
  },
  {
   "cell_type": "markdown",
   "metadata": {},
   "source": [
    "### Дан список с затратами на рекламу. Но в данных есть ошибки, некоторые затраты имеют отрицательную величину. Удалите такие значения из списка и посчитайте суммарные затраты\n",
    "#### [100, 125, -90, 345, 655, -1, 0, 200] Используйте list comprehensions\n"
   ]
  },
  {
   "cell_type": "code",
   "execution_count": 10,
   "metadata": {},
   "outputs": [],
   "source": [
    "def calc(*args):\n",
    "    summa = sum([n for n in args if n >=0])\n",
    "    return {\"сумма\": summa}"
   ]
  },
  {
   "cell_type": "code",
   "execution_count": 11,
   "metadata": {},
   "outputs": [
    {
     "data": {
      "text/plain": [
       "{'сумма': 1425}"
      ]
     },
     "execution_count": 11,
     "metadata": {},
     "output_type": "execute_result"
    }
   ],
   "source": [
    "calc (100, 125, -90, 345, 655, -1, 0, 200)"
   ]
  },
  {
   "cell_type": "markdown",
   "metadata": {},
   "source": [
    "## Даны два списка.\n",
    "##### Дата покупки ['2021-09-14', '2021-12-15', '2021-09-08', '2021-12-05', '2021-10-09', '2021-09-30', '2021-12-22', '2021-11-29', '2021-12-24', '2021-11-26', '2021-10-27', '2021-12-18', '2021-11-09', '2021-11-23', '2021-09-27', '2021-10-02', '2021-12-27', '2021-09-20', '2021-12-13', '2021-11-01', '2021-11-09', '2021-12-06', '2021-12-08', '2021-10-09', '2021-10-31', '2021-09-30', '2021-11-09', '2021-12-13', '2021-10-26', '2021-12-09']\n",
    "\n",
    "##### Суммы покупок по датам [1270, 8413, 9028, 3703, 5739, 4095, 295, 4944, 5723, 3701, 4471, 651, 7037, 4274, 6275, 4988, 6930, 2971, 6592, 2004, 2822, 519, 3406, 2732, 5015, 2008, 316, 6333, 5700, 2887]\n",
    "\n",
    "##### 4.1 Найдите, какая выручка у компании в ноябре Используйте list comprehensions\n",
    "\n",
    "##### 4.2 Найдите выручку компании в зависимости от месяца Для этого напишите функцию, которая на вход принимает список с датами и список с выручкой, а на выходе словарь, где ключи - это месяцы, а значения - это выручка.Используйте аннотирование типов.\n",
    "\n"
   ]
  },
  {
   "cell_type": "code",
   "execution_count": 100,
   "metadata": {},
   "outputs": [],
   "source": [
    "sale_data = ['2021-09-14', '2021-12-15', '2021-09-08', '2021-12-05', '2021-10-09', '2021-09-30', '2021-12-22', '2021-11-29', '2021-12-24', '2021-11-26', '2021-10-27', '2021-12-18', '2021-11-09', '2021-11-23', '2021-09-27', '2021-10-02', '2021-12-27', '2021-09-20', '2021-12-13', '2021-11-01', '2021-11-09', '2021-12-06', '2021-12-08', '2021-10-09', '2021-10-31', '2021-09-30', '2021-11-09', '2021-12-13', '2021-10-26', '2021-12-09']\n",
    "profit = [1270, 8413, 9028, 3703, 5739, 4095, 295, 4944, 5723, 3701, 4471, 651, 7037, 4274, 6275, 4988, 6930, 2971, 6592, 2004, 2822, 519, 3406, 2732, 5015, 2008, 316, 6333, 5700, 2887]"
   ]
  },
  {
   "cell_type": "code",
   "execution_count": 101,
   "metadata": {},
   "outputs": [
    {
     "name": "stdout",
     "output_type": "stream",
     "text": [
      "Выручка в ноябре: 25098\n"
     ]
    }
   ],
   "source": [
    "revenue = sum([amount for date, amount in zip(sale_data, profit) if date.startswith('2021-11')])\n",
    "print(\"Выручка в ноябре:\", revenue)\n"
   ]
  },
  {
   "cell_type": "code",
   "execution_count": 103,
   "metadata": {},
   "outputs": [
    {
     "name": "stdout",
     "output_type": "stream",
     "text": [
      "Выручка по месяцам: {'09': 25647, '12': 45452, '10': 28645, '11': 25098}\n"
     ]
    }
   ],
   "source": [
    "def calculate_revenue_by_month(dates: List[str], amounts: List[int]) -> Dict[str, int]:\n",
    "    revenue_by_month = {}\n",
    "    for date, amount in zip(sale_data, profit):\n",
    "        month = date.split('-')[1] \n",
    "        if month in revenue_by_month:\n",
    "            revenue_by_month[month] += amount\n",
    "        else:\n",
    "            revenue_by_month[month] = amount\n",
    "    return revenue_by_month\n",
    "\n",
    "\n",
    "revenue_monthly = calculate_revenue_by_month(purchase_dates, purchase_amounts)\n",
    "print(\"Выручка по месяцам:\", revenue_monthly)"
   ]
  }
 ],
 "metadata": {
  "kernelspec": {
   "display_name": "Python 3",
   "language": "python",
   "name": "python3"
  },
  "language_info": {
   "codemirror_mode": {
    "name": "ipython",
    "version": 3
   },
   "file_extension": ".py",
   "mimetype": "text/x-python",
   "name": "python",
   "nbconvert_exporter": "python",
   "pygments_lexer": "ipython3",
   "version": "3.11.3"
  },
  "orig_nbformat": 4
 },
 "nbformat": 4,
 "nbformat_minor": 2
}
